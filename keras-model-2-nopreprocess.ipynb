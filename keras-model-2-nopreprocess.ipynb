{
 "cells": [
  {
   "cell_type": "markdown",
   "metadata": {},
   "source": [
    "# Working model with dumb preprocessing\n",
    "A version of `keras-model-2` that allows us to not use our pickle (`.p`) files.\n"
   ]
  },
  {
   "cell_type": "code",
   "execution_count": 1,
   "metadata": {
    "collapsed": false
   },
   "outputs": [
    {
     "name": "stderr",
     "output_type": "stream",
     "text": [
      "Using Theano backend.\n"
     ]
    }
   ],
   "source": [
    "%matplotlib inline\n",
    "%reload_ext autoreload\n",
    "%autoreload 2\n",
    "import matplotlib.pyplot as plt\n",
    "import numpy as np\n",
    "np.random.seed(123)\n",
    "\n",
    "from keras.models import Sequential\n",
    "from keras.layers import Dense, Activation, LSTM\n",
    "from keras.layers.recurrent import LSTM, GRU\n",
    "from keras.layers.embeddings import Embedding\n",
    "from keras.layers.wrappers import TimeDistributed\n",
    "from keras.preprocessing.sequence import pad_sequences\n",
    "from tqdm import tqdm\n",
    "\n",
    "from preprocess import *\n",
    "from util import *"
   ]
  },
  {
   "cell_type": "code",
   "execution_count": 2,
   "metadata": {
    "collapsed": false
   },
   "outputs": [
    {
     "name": "stderr",
     "output_type": "stream",
     "text": [
      "100%|██████████| 2/2 [00:00<00:00, 27.45it/s]\n",
      "100%|██████████| 2/2 [00:00<00:00, 1423.25it/s]\n",
      "  0%|          | 0/2 [00:00<?, ?it/s]"
     ]
    },
    {
     "name": "stdout",
     "output_type": "stream",
     "text": [
      "Listing files\n",
      "Loading files\n",
      "Calculating minimum song length\n",
      "Separating voices\n"
     ]
    },
    {
     "name": "stderr",
     "output_type": "stream",
     "text": [
      "100%|██████████| 2/2 [00:03<00:00,  2.05s/it]"
     ]
    },
    {
     "name": "stdout",
     "output_type": "stream",
     "text": [
      "Getting soprano part (input data)\n",
      "Getting bass part (output labels)\n"
     ]
    },
    {
     "name": "stderr",
     "output_type": "stream",
     "text": [
      "\n"
     ]
    }
   ],
   "source": [
    "data, labels, min_song_length = loadUnprocessedSongs(num_files=2)"
   ]
  },
  {
   "cell_type": "code",
   "execution_count": 3,
   "metadata": {
    "collapsed": false
   },
   "outputs": [
    {
     "name": "stdout",
     "output_type": "stream",
     "text": [
      "(2, 120)\n",
      "(2, 120, 89)\n"
     ]
    }
   ],
   "source": [
    "data = np.array(data)\n",
    "labels = np.array(labels)\n",
    "print(data.shape)\n",
    "print(labels.shape)"
   ]
  },
  {
   "cell_type": "code",
   "execution_count": 4,
   "metadata": {
    "collapsed": false
   },
   "outputs": [
    {
     "data": {
      "text/plain": [
       "19"
      ]
     },
     "execution_count": 4,
     "metadata": {},
     "output_type": "execute_result"
    }
   ],
   "source": [
    "np.min(data)"
   ]
  },
  {
   "cell_type": "code",
   "execution_count": 5,
   "metadata": {
    "collapsed": false
   },
   "outputs": [
    {
     "name": "stdout",
     "output_type": "stream",
     "text": [
      "(None, 120, 89)\n"
     ]
    }
   ],
   "source": [
    "#TODO: shift data down to 0-89 instead of 19-...\n",
    "NUM_POSSIBLE_ACTIONS = len(pitchToTuple(SILENCE))\n",
    "EMBEDDING_DIMENSIONS=12\n",
    "#MIN_SONG_LENGTH=200 #TODO figure out/look up\n",
    "\n",
    "model = Sequential()\n",
    "\n",
    "model.add(Embedding(NUM_POSSIBLE_ACTIONS, EMBEDDING_DIMENSIONS, input_length=min_song_length))\n",
    "\n",
    "model.add(LSTM(EMBEDDING_DIMENSIONS, return_sequences=True))\n",
    "\n",
    "#model.add(Dropout(0.5))\n",
    "model.add(TimeDistributed(Dense(NUM_POSSIBLE_ACTIONS)))\n",
    "\n",
    "print(model.output_shape)\n",
    "model.add(Activation('softmax'))\n",
    "\n",
    "# Binary crossentropy?\n",
    "model.compile(loss='mean_squared_error', optimizer='RMSprop', metrics=['accuracy'])\n",
    "\n"
   ]
  },
  {
   "cell_type": "code",
   "execution_count": 6,
   "metadata": {
    "collapsed": false
   },
   "outputs": [
    {
     "name": "stdout",
     "output_type": "stream",
     "text": [
      "Epoch 1/10\n",
      "2/2 [==============================] - 0s - loss: 0.0111 - acc: 0.0042     \n",
      "Epoch 2/10\n",
      "2/2 [==============================] - 0s - loss: 0.0111 - acc: 0.0125     \n",
      "Epoch 3/10\n",
      "2/2 [==============================] - 0s - loss: 0.0111 - acc: 0.0208     \n",
      "Epoch 4/10\n",
      "2/2 [==============================] - 0s - loss: 0.0111 - acc: 0.0458     \n",
      "Epoch 5/10\n",
      "2/2 [==============================] - 0s - loss: 0.0111 - acc: 0.0458     \n",
      "Epoch 6/10\n",
      "2/2 [==============================] - 0s - loss: 0.0110 - acc: 0.0458     \n",
      "Epoch 7/10\n",
      "2/2 [==============================] - 0s - loss: 0.0110 - acc: 0.0458     \n",
      "Epoch 8/10\n",
      "2/2 [==============================] - 0s - loss: 0.0110 - acc: 0.0458     \n",
      "Epoch 9/10\n",
      "2/2 [==============================] - 0s - loss: 0.0110 - acc: 0.0458     \n",
      "Epoch 10/10\n",
      "2/2 [==============================] - 0s - loss: 0.0110 - acc: 0.0458     \n"
     ]
    },
    {
     "data": {
      "text/plain": [
       "<keras.callbacks.History at 0x7fb2d1bab438>"
      ]
     },
     "execution_count": 6,
     "metadata": {},
     "output_type": "execute_result"
    }
   ],
   "source": [
    "model.fit(data, labels, nb_epoch=10, batch_size=1)"
   ]
  },
  {
   "cell_type": "code",
   "execution_count": 7,
   "metadata": {
    "collapsed": false,
    "scrolled": true
   },
   "outputs": [
    {
     "data": {
      "text/plain": [
       "array([20, 20, 52, 52, 52, 52, 52, 52, 52, 52, 52, 52, 52, 52, 52, 52, 52,\n",
       "       52, 52, 52, 52, 52, 52, 52, 52, 52, 52, 52, 52, 52, 52, 52, 52, 52,\n",
       "       52, 52, 52, 52, 52, 52, 52, 52, 52, 52, 52, 52, 52, 52, 52, 52, 52,\n",
       "       52, 52, 52, 52, 52, 52, 52, 52, 52, 52, 52, 52, 52, 52, 52, 52, 52,\n",
       "       52, 52, 52, 52, 52, 52, 52, 52, 52, 52, 52, 52, 52, 52, 52, 52, 52,\n",
       "       52, 52, 52, 52])"
      ]
     },
     "execution_count": 7,
     "metadata": {},
     "output_type": "execute_result"
    }
   ],
   "source": [
    "output=model.predict(data[0, np.newaxis])\n",
    "np.array([np.argmax(output[0, time, :]) for time in range(output.shape[2])])+LOWEST_PITCH"
   ]
  }
 ],
 "metadata": {
  "anaconda-cloud": {},
  "kernelspec": {
   "display_name": "Python [Root]",
   "language": "python",
   "name": "Python [Root]"
  },
  "language_info": {
   "codemirror_mode": {
    "name": "ipython",
    "version": 3
   },
   "file_extension": ".py",
   "mimetype": "text/x-python",
   "name": "python",
   "nbconvert_exporter": "python",
   "pygments_lexer": "ipython3",
   "version": "3.5.2"
  }
 },
 "nbformat": 4,
 "nbformat_minor": 0
}
