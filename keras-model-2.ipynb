{
 "cells": [
  {
   "cell_type": "markdown",
   "metadata": {},
   "source": [
    "# A slightly less naive and foolish keras model\n",
    "\n",
    "(Not working yet)\n"
   ]
  },
  {
   "cell_type": "code",
   "execution_count": 19,
   "metadata": {
    "collapsed": false
   },
   "outputs": [],
   "source": [
    "%matplotlib inline\n",
    "import matplotlib.pyplot as plt\n",
    "import numpy as np\n",
    "np.random.seed(123)\n",
    "\n",
    "from keras.models import Sequential\n",
    "from keras.layers import Dense, Activation, LSTM\n",
    "from keras.layers.recurrent import LSTM, GRU\n",
    "from keras.layers.embeddings import Embedding\n",
    "from keras.layers.wrappers import TimeDistributed\n",
    "from keras.preprocessing.sequence import pad_sequences\n",
    "from keras.utils.np_utils import to_categorical\n",
    "from tqdm import tqdm\n",
    "\n",
    "from preprocess import *\n",
    "from util import *"
   ]
  },
  {
   "cell_type": "code",
   "execution_count": 76,
   "metadata": {
    "collapsed": true
   },
   "outputs": [],
   "source": [
    "#TODO: shift data down to 0-89 instead of 19-...\n",
    "NUM_POSSIBLE_ACTIONS = len(pitchToTuple(SILENCE))\n",
    "EMBEDDING_DIMENSIONS=100\n",
    "#MIN_SONG_LENGTH=200 #TODO figure out/look up"
   ]
  },
  {
   "cell_type": "code",
   "execution_count": 84,
   "metadata": {
    "collapsed": false
   },
   "outputs": [],
   "source": [
    "NUM_SONGS = 900\n",
    "\n",
    "sop = loadData('Soprano')[:NUM_SONGS]\n",
    "min_song_length = min(len(song) for song in sop) // 4 * 4 #trim to last measure\n",
    "\n",
    "data = trimmed_sop = np.array([song[:min_song_length] for song in sop])\n",
    "\n",
    "bass = loadData('Bass')[:NUM_SONGS]\n",
    "trimmed_categorical_bass = [to_categorical(np.array(song[:min_song_length])-LOWEST_PITCH, nb_classes=NUM_POSSIBLE_ACTIONS) for song in bass]\n",
    "labels = np.array(trimmed_categorical_bass)\n"
   ]
  },
  {
   "cell_type": "code",
   "execution_count": 85,
   "metadata": {
    "collapsed": true
   },
   "outputs": [],
   "source": [
    "trimmed_bass = []"
   ]
  },
  {
   "cell_type": "code",
   "execution_count": 86,
   "metadata": {
    "collapsed": false
   },
   "outputs": [
    {
     "name": "stdout",
     "output_type": "stream",
     "text": [
      "(None, 80, 89)\n"
     ]
    }
   ],
   "source": [
    "\n",
    "\n",
    "model = Sequential()\n",
    "\n",
    "model.add(Embedding(NUM_POSSIBLE_ACTIONS, EMBEDDING_DIMENSIONS, input_length=min_song_length))\n",
    "\n",
    "model.add(LSTM(EMBEDDING_DIMENSIONS, return_sequences=True))\n",
    "model.add(LSTM(EMBEDDING_DIMENSIONS, return_sequences=True))\n",
    "model.add(LSTM(EMBEDDING_DIMENSIONS, return_sequences=True))\n",
    "model.add(LSTM(EMBEDDING_DIMENSIONS, return_sequences=True))\n",
    "\n",
    "#model.add(Dropout(0.5))\n",
    "model.add(TimeDistributed(Dense(NUM_POSSIBLE_ACTIONS)))\n",
    "\n",
    "print(model.output_shape)\n",
    "model.add(Activation('softmax'))\n",
    "\n",
    "# Binary crossentropy?\n",
    "model.compile(loss='mean_squared_error', optimizer='RMSprop', metrics=['accuracy'])\n",
    "\n"
   ]
  },
  {
   "cell_type": "code",
   "execution_count": 87,
   "metadata": {
    "collapsed": false
   },
   "outputs": [
    {
     "name": "stdout",
     "output_type": "stream",
     "text": [
      "Epoch 1/10\n",
      "900/900 [==============================] - 12s - loss: 0.0099 - acc: 0.3433    \n",
      "Epoch 2/10\n",
      "900/900 [==============================] - 12s - loss: 0.0096 - acc: 0.3577    \n",
      "Epoch 3/10\n",
      "900/900 [==============================] - 13s - loss: 0.0095 - acc: 0.3778    \n",
      "Epoch 4/10\n",
      "900/900 [==============================] - 9s - loss: 0.0093 - acc: 0.3858     \n",
      "Epoch 5/10\n",
      "900/900 [==============================] - 9s - loss: 0.0092 - acc: 0.3904     \n",
      "Epoch 6/10\n",
      "900/900 [==============================] - 11s - loss: 0.0091 - acc: 0.3915    \n",
      "Epoch 7/10\n",
      "900/900 [==============================] - 14s - loss: 0.0091 - acc: 0.3956    \n",
      "Epoch 8/10\n",
      "900/900 [==============================] - 9s - loss: 0.0080 - acc: 0.4066     \n",
      "Epoch 9/10\n",
      "900/900 [==============================] - 10s - loss: 0.0078 - acc: 0.4153    \n",
      "Epoch 10/10\n",
      "900/900 [==============================] - 9s - loss: 0.0078 - acc: 0.4150     \n"
     ]
    },
    {
     "data": {
      "text/plain": [
       "<keras.callbacks.History at 0x7fba9eca90f0>"
      ]
     },
     "execution_count": 87,
     "metadata": {},
     "output_type": "execute_result"
    }
   ],
   "source": [
    "\n",
    "\n",
    "model.fit(data, labels, nb_epoch=10, batch_size=32)"
   ]
  },
  {
   "cell_type": "code",
   "execution_count": 96,
   "metadata": {
    "collapsed": false
   },
   "outputs": [
    {
     "name": "stdout",
     "output_type": "stream",
     "text": [
      "(1, 80, 89)\n",
      "[19 19 19 19 19 19 55 20 55 20 55 20 55 20 55 20 55 20 55 20 55 20 55 20 55\n",
      " 20 55 20 55 20 55 20 55 20 55 20 55 20 55 20 55 20 55 20 55 20 55 20 55 20\n",
      " 55 20 55 20 55 20 55 20 55 20 55 20 55 20 55 20 55 20 55 20 55 20 55 20 55\n",
      " 20 55 20 55 20]\n"
     ]
    }
   ],
   "source": [
    "output=model.predict(data[11, np.newaxis])\n",
    "print(output.shape)\n",
    "song_pitches = np.array([np.argmax(output[0, time, :]) for time in range(output.shape[1])])+LOWEST_PITCH\n",
    "print(song_pitches)"
   ]
  },
  {
   "cell_type": "code",
   "execution_count": 100,
   "metadata": {
    "collapsed": false
   },
   "outputs": [
    {
     "data": {
      "image/png": "[encoded data removed]",
      "text/plain": [
       "<music21.ipython21.objects.IPythonPNGObject at 0x7fbaa03bf8d0>"
      ]
     },
     "execution_count": 100,
     "metadata": {},
     "output_type": "execute_result"
    }
   ],
   "source": [
    "import util\n",
    "import imp; imp.reload(util)\n",
    "util.pitchToStream(song_pitches).show()"
   ]
  },
  {
   "cell_type": "code",
   "execution_count": null,
   "metadata": {
    "collapsed": true
   },
   "outputs": [],
   "source": []
  }
 ],
 "metadata": {
  "anaconda-cloud": {},
  "kernelspec": {
   "display_name": "Python 3",
   "language": "python",
   "name": "python3"
  },
  "language_info": {
   "codemirror_mode": {
    "name": "ipython",
    "version": 3
   },
   "file_extension": ".py",
   "mimetype": "text/x-python",
   "name": "python",
   "nbconvert_exporter": "python",
   "pygments_lexer": "ipython3",
   "version": "3.5.2"
  }
 },
 "nbformat": 4,
 "nbformat_minor": 0
}
