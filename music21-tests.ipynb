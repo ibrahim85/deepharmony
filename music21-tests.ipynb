{
 "cells": [
  {
   "cell_type": "markdown",
   "metadata": {},
   "source": []
  },
  {
   "cell_type": "markdown",
   "metadata": {},
   "source": [
    "Pitch, duration in beats, hold last note\n",
    "\n",
    "\n",
    "We divide up the the piece to discrete time segments, and each time segment, we check \n",
    "\n",
    "(Tempo is a pre-determined constant)\n",
    "\n",
    "\n",
    "Every timestep (probably 8th notes), we have:\n",
    "- Each timestep = vector of ~130 floats\n",
    "- A pitch (or rest or hold) --- (We could do relative pitch, but lets put that off until later)\n",
    "\n",
    "\"One Hot Encoding\" - We've got a discrete variable, so we want to break them up into a sequence of probabilities\n",
    "\n"
   ]
  },
  {
   "cell_type": "code",
   "execution_count": 13,
   "metadata": {
    "collapsed": false
   },
   "outputs": [],
   "source": [
    "%matplotlib inline\n",
    "import matplotlib.pyplot as plt\n",
    "import numpy as np\n",
    "np.random.seed(123)\n",
    "\n",
    "from keras.models import Sequential\n",
    "from keras.layers.core import Dense, Dropout, Activation, Flatten\n",
    "from keras.layers.convolutional import Convolution2D, MaxPooling2D\n",
    "from keras.utils import np_utils\n",
    "\n",
    "import music21 as m21"
   ]
  },
  {
   "cell_type": "code",
   "execution_count": 14,
   "metadata": {
    "collapsed": false
   },
   "outputs": [
    {
     "data": {
      "text/plain": [
       "<music21.stream.Score 0x1112844e0>"
      ]
     },
     "execution_count": 14,
     "metadata": {},
     "output_type": "execute_result"
    }
   ],
   "source": [
    "song = music21.converter.parse('data/bach-chorales/bach-1.mid')\n",
    "song.analyze('key')\n",
    "# song.show('midi')\n",
    "\n",
    "song.measures(0, 1)"
   ]
  },
  {
   "cell_type": "code",
   "execution_count": 15,
   "metadata": {
    "collapsed": false
   },
   "outputs": [
    {
     "name": "stdout",
     "output_type": "stream",
     "text": [
      "{0.0} <music21.stream.Part 0x11121e550>\n",
      "    {0.0} <music21.tempo.MetronomeMark animato Quarter=120.0>\n",
      "    {0.0} <music21.meter.TimeSignature 4/4>\n",
      "    {0.0} <music21.stream.Voice 0x11127dda0>\n",
      "        {0.0} <music21.chord.Chord D3 A3 F#4 D5>\n",
      "        {2.0} <music21.chord.Chord F#3 D4 A4 A4>\n",
      "        {4.0} <music21.chord.Chord G#3 B4>\n",
      "        {5.0} <music21.chord.Chord F#3 C#5>\n",
      "        {6.0} <music21.chord.Chord E3 G#3>\n",
      "        {7.0} <music21.chord.Chord F#3 A3>\n",
      "        {8.0} <music21.chord.Chord G#3 B3 E4 D5>\n",
      "        {10.0} <music21.chord.Chord A3 C#5>\n",
      "        {12.0} <music21.chord.Chord B-3 C#4 F#4 C#5>\n",
      "        {14.0} <music21.note.Note B>\n",
      "        {15.0} <music21.note.Note F#>\n",
      "        {16.0} <music21.note.Note G>\n",
      "        {17.0} <music21.chord.Chord D3 F#4>\n",
      "        {18.0} <music21.chord.Chord E3 G4 B4>\n",
      "        {20.0} <music21.chord.Chord F#3 B-4>\n",
      "        {22.0} <music21.chord.Chord B2 D4 F#4 B4>\n",
      "        {24.0} <music21.chord.Chord B3 D4 F#4 B4>\n",
      "        {26.0} <music21.chord.Chord B3 D5 F#5>\n",
      "        {28.0} <music21.note.Note C#>\n",
      "        {29.0} <music21.note.Note B>\n",
      "        {30.0} <music21.chord.Chord A3 A4 F#5>\n",
      "        {31.0} <music21.chord.Chord G#3 F4 G#5>\n",
      "        {32.0} <music21.chord.Chord F#3 F#4 C#5 A5>\n",
      "        {34.0} <music21.chord.Chord B3 D4>\n",
      "        {35.0} <music21.chord.Chord C#4 E4>\n",
      "        {36.0} <music21.chord.Chord D4 F#5>\n",
      "        {38.0} <music21.chord.Chord G3 A4 C#5 E5>\n",
      "        {40.0} <music21.note.Note F#>\n",
      "        {41.0} <music21.note.Note G>\n",
      "        {42.0} <music21.chord.Chord A3 A4 D5 E5>\n",
      "        {44.0} <music21.chord.Chord A2 E4 C#5 E5>\n",
      "        {46.0} <music21.chord.Chord D3 F#4 A4 D5>\n",
      "        {48.0} <music21.chord.Chord D4 F#4 A4 D5>\n",
      "        {50.0} <music21.chord.Chord G3 G4 B4 D5>\n",
      "        {52.0} <music21.chord.Chord E4 G4 B4 E5>\n",
      "        {54.0} <music21.note.Note E>\n",
      "        {55.0} <music21.note.Note E->\n",
      "        {56.0} <music21.note.Note E>\n",
      "        {57.0} <music21.note.Note D>\n",
      "        {58.0} <music21.chord.Chord C#3 E3 G4>\n",
      "        {59.0} <music21.chord.Chord E-3 F#3 F#4>\n",
      "        {60.0} <music21.chord.Chord E3 E4>\n",
      "        {62.0} <music21.chord.Chord B2 B3 E-4 F#4>\n",
      "        {64.0} <music21.chord.Chord F#2 B3 E-4 A4>\n",
      "        {66.0} <music21.note.Note G>\n",
      "        {67.0} <music21.note.Note A>\n",
      "        {68.0} <music21.chord.Chord B2 B3>\n",
      "        {69.0} <music21.chord.Chord A2 F#3>\n",
      "        {70.0} <music21.chord.Chord G2 G3 E4>\n",
      "        {72.0} <music21.chord.Chord F#2 C#3 B-3 F#4>\n",
      "        {74.0} <music21.chord.Chord B2 D3>\n",
      "        {75.0} <music21.chord.Chord C#3 E3>\n",
      "        {76.0} <music21.chord.Chord D3 F#3>\n",
      "        {77.0} <music21.chord.Chord B2 D3>\n",
      "        {78.0} <music21.chord.Chord G3 E3 E4>\n",
      "        {80.0} <music21.chord.Chord F#3 F#3 D4>\n",
      "        {81.0} <music21.chord.Chord E3 G3 C#4>\n",
      "        {82.0} <music21.chord.Chord F#3 B3>\n",
      "        {84.0} <music21.chord.Chord F#2 B-3>\n",
      "        {86.0} <music21.chord.Chord B2 D3 F#3 B3>\n",
      "        {88.0} <music21.chord.Chord B2 F#3 D4 B4>\n",
      "        {90.0} <music21.chord.Chord B3 B3 D4>\n",
      "        {92.0} <music21.chord.Chord F#3 A3 D4 A4>\n",
      "        {94.0} <music21.chord.Chord B2 D4 G4>\n",
      "        {96.0} <music21.chord.Chord C#3 E4 A4>\n",
      "        {98.0} <music21.note.Note D>\n",
      "        {101.0} <music21.chord.Chord C#3 B-3 C#4>\n",
      "        {102.0} <music21.note.Note B>\n",
      "        {105.0} <music21.chord.Chord E3 B3>\n",
      "        {106.0} <music21.chord.Chord C3 E4>\n",
      "        {107.0} <music21.chord.Chord D3 F#3 D4>\n",
      "        {108.0} <music21.chord.Chord G3 G3 D4 B4>\n",
      "        {110.0} <music21.chord.Chord F#3 A3 D4 A4>\n",
      "        {112.0} <music21.chord.Chord G3 D4 B4>\n",
      "        {114.0} <music21.chord.Chord D3 D4 F#4 A4>\n",
      "        {116.0} <music21.chord.Chord G3 D4 G4 B4>\n",
      "        {118.0} <music21.note.Note F#>\n",
      "        {119.0} <music21.note.Note E>\n",
      "        {120.0} <music21.note.Note F#>\n",
      "        {121.0} <music21.note.Note E>\n",
      "        {122.0} <music21.note.Note D>\n",
      "        {123.0} <music21.note.Note C#>\n",
      "        {124.0} <music21.chord.Chord D3 A3 F#4 D5>\n",
      "        {126.0} <music21.chord.Chord A2 C#4 C#5>\n",
      "        {128.0} <music21.note.Note B>\n",
      "        {129.0} <music21.note.Note C#>\n",
      "        {130.0} <music21.chord.Chord D3 F#4 A4>\n",
      "        {132.0} <music21.chord.Chord G3 B3 B4>\n",
      "        {134.0} <music21.chord.Chord F#3 C#4>\n",
      "        {136.0} <music21.chord.Chord F#2 F#3>\n",
      "        {138.0} <music21.note.Note B>\n",
      "        {141.0} <music21.chord.Chord A2 C#4>\n",
      "        {142.0} <music21.note.Note G#>\n",
      "        {145.0} <music21.chord.Chord F#2 F#4>\n",
      "        {146.0} <music21.chord.Chord F2 C#5>\n",
      "        {148.0} <music21.chord.Chord F#2 C#4 A4>\n",
      "        {150.0} <music21.chord.Chord B2 F#3 D4>\n",
      "        {152.0} <music21.chord.Chord C#3 F3>\n",
      "        {154.0} <music21.chord.Chord F#2 C#3 B-3 F#4>\n",
      "        {156.0} <music21.chord.Chord B2 F#3 B3 D4>\n",
      "        {158.0} <music21.chord.Chord A2 A3 C#4 E4>\n",
      "        {160.0} <music21.note.Note A>\n",
      "        {161.0} <music21.note.Note G>\n",
      "        {162.0} <music21.chord.Chord F#3 D4 F#4 A4>\n",
      "        {164.0} <music21.chord.Chord E3 G4>\n",
      "        {166.0} <music21.chord.Chord D3 D4 F#4>\n",
      "        {168.0} <music21.note.Note G>\n",
      "        {169.0} <music21.note.Note E>\n",
      "        {170.0} <music21.chord.Chord A3 A3>\n",
      "        {171.0} <music21.chord.Chord A2 G3 E4>\n",
      "        {172.0} <music21.chord.Chord D3 F#3 A3 D4>\n",
      "        {174.0} <music21.chord.Chord B2 D4>\n",
      "        {176.0} <music21.chord.Chord A2 E4>\n",
      "        {178.0} <music21.chord.Chord D3 F#3 A3 D4>\n",
      "        {180.0} <music21.chord.Chord C#3 E3 A3 A4>\n",
      "        {182.0} <music21.note.Note D>\n",
      "        {185.0} <music21.note.Note F#>\n",
      "        {186.0} <music21.note.Note G>\n",
      "        {187.0} <music21.chord.Chord A2 A4>\n",
      "        {188.0} <music21.chord.Chord B2 D3 D4>\n",
      "        {189.0} <music21.chord.Chord A2 A3 F#4>\n",
      "        {190.0} <music21.note.Note G>\n",
      "        {191.0} <music21.note.Note A>\n",
      "        {192.0} <music21.chord.Chord B2 B3 F#4>\n",
      "        {194.0} <music21.note.Note E>\n",
      "        {195.0} <music21.note.Note D>\n",
      "        {196.0} <music21.chord.Chord C#3 A3 E4>\n",
      "        {198.0} <music21.chord.Chord D3 A3 F#4>\n",
      "        {200.0} <music21.chord.Chord G2 B3 D4>\n",
      "        {202.0} <music21.chord.Chord A2 C#4>\n",
      "        {204.0} <music21.chord.Chord D3 F#3 A3 D4>\n",
      "        {206.0} <music21.chord.Chord D3 F#3 A3 D4>\n",
      "    {0.0} <music21.stream.Voice 0x111266128>\n",
      "        {0.0} <music21.note.Rest rest>\n",
      "        {4.0} <music21.chord.Chord D4 E4>\n",
      "        {4.0} <music21.note.Rest rest>\n",
      "        {5.0} <music21.note.Rest rest>\n",
      "        {6.0} <music21.chord.Chord E4 D5>\n",
      "        {10.0} <music21.chord.Chord A3 E4>\n",
      "        {11.0} <music21.chord.Chord B3 G4>\n",
      "        {14.0} <music21.note.Note B>\n",
      "        {18.0} <music21.note.Note C#>\n",
      "        {26.0} <music21.note.Note B>\n",
      "        {27.0} <music21.note.Note A>\n",
      "        {28.0} <music21.chord.Chord G#4 C#5 F5>\n",
      "        {30.0} <music21.note.Note C#>\n",
      "        {34.0} <music21.chord.Chord B4 G5>\n",
      "        {36.0} <music21.chord.Chord F#4 A4>\n",
      "        {37.0} <music21.chord.Chord G4 B4>\n",
      "        {40.0} <music21.chord.Chord A4 D5 F#5>\n",
      "        {54.0} <music21.chord.Chord B3 A4 F#5>\n",
      "        {56.0} <music21.chord.Chord B3 G4 B4>\n",
      "        {58.0} <music21.note.Note A>\n",
      "        {60.0} <music21.chord.Chord G3 G4>\n",
      "        {61.0} <music21.chord.Chord A3 F#4>\n",
      "        {66.0} <music21.chord.Chord B3 E4 G4>\n",
      "        {68.0} <music21.chord.Chord D4 F#4>\n",
      "        {70.0} <music21.note.Note C#>\n",
      "        {71.0} <music21.note.Note B>\n",
      "        {74.0} <music21.chord.Chord B3 F#4>\n",
      "        {76.0} <music21.chord.Chord B3 B4>\n",
      "        {78.0} <music21.note.Note B>\n",
      "        {79.0} <music21.note.Note B->\n",
      "        {80.0} <music21.note.Note B>\n",
      "        {82.0} <music21.note.Note F#>\n",
      "        {83.0} <music21.note.Note G>\n",
      "        {84.0} <music21.note.Note F#>\n",
      "        {85.0} <music21.note.Note E>\n",
      "        {90.0} <music21.note.Note F#>\n",
      "        {91.0} <music21.note.Note G>\n",
      "        {94.0} <music21.note.Note B>\n",
      "        {95.0} <music21.note.Note G>\n",
      "        {96.0} <music21.note.Note E>\n",
      "        {96.5} <music21.note.Note F#>\n",
      "        {97.0} <music21.note.Note G>\n",
      "        {99.0} <music21.chord.Chord F#3 C#4>\n",
      "        {100.0} <music21.chord.Chord G#3 B3>\n",
      "        {102.0} <music21.chord.Chord B3 D4>\n",
      "        {103.0} <music21.chord.Chord A3 C4>\n",
      "        {104.0} <music21.chord.Chord G3 B3>\n",
      "        {104.5} <music21.chord.Chord F#3 A3>\n",
      "        {105.0} <music21.note.Note G>\n",
      "        {112.0} <music21.note.Note D>\n",
      "        {113.0} <music21.note.Note E>\n",
      "        {118.0} <music21.chord.Chord E4 G4 C#5>\n",
      "        {120.0} <music21.chord.Chord A3 F#4 D5>\n",
      "        {122.0} <music21.chord.Chord A3 G4 E5>\n",
      "        {126.0} <music21.note.Note E>\n",
      "        {127.0} <music21.note.Note F#>\n",
      "        {128.0} <music21.chord.Chord D4 G4 B4>\n",
      "        {130.0} <music21.note.Note D>\n",
      "        {131.0} <music21.note.Note C>\n",
      "        {132.0} <music21.note.Note F#>\n",
      "        {133.0} <music21.note.Note E>\n",
      "        {134.0} <music21.note.Note F#>\n",
      "        {135.0} <music21.note.Note G>\n",
      "        {136.0} <music21.note.Note F#>\n",
      "        {137.0} <music21.note.Note E>\n",
      "        {138.0} <music21.chord.Chord F#3 D4 B4>\n",
      "        {140.0} <music21.note.Note D>\n",
      "        {142.0} <music21.note.Note B>\n",
      "        {143.0} <music21.note.Note A>\n",
      "        {144.0} <music21.note.Note G#>\n",
      "        {149.0} <music21.note.Note F#>\n",
      "        {150.0} <music21.note.Note G#>\n",
      "        {160.0} <music21.chord.Chord C#4 E4 A4>\n",
      "        {164.0} <music21.chord.Chord D4 B3>\n",
      "        {165.0} <music21.chord.Chord C#4 C#4>\n",
      "        {166.0} <music21.note.Note C#>\n",
      "        {167.0} <music21.note.Note B>\n",
      "        {168.0} <music21.chord.Chord B3 D4>\n",
      "        {170.0} <music21.note.Note C#>\n",
      "        {174.0} <music21.note.Note F#>\n",
      "        {175.0} <music21.note.Note E>\n",
      "        {175.5} <music21.note.Note D>\n",
      "        {176.0} <music21.note.Note A>\n",
      "        {177.5} <music21.note.Note G>\n",
      "        {182.0} <music21.chord.Chord D3 F#4>\n",
      "        {183.0} <music21.chord.Chord E3 G4>\n",
      "        {184.0} <music21.chord.Chord F#3 D4>\n",
      "        {186.0} <music21.chord.Chord E3 C#4>\n",
      "        {188.0} <music21.note.Note F#>\n",
      "        {190.0} <music21.chord.Chord B3 E4 G4>\n",
      "        {192.0} <music21.note.Note E>\n",
      "        {193.0} <music21.note.Note E->\n",
      "        {194.0} <music21.chord.Chord G3 B3 E4>\n",
      "        {196.0} <music21.note.Note A>\n",
      "        {197.0} <music21.note.Note G>\n",
      "        {198.0} <music21.note.Note E>\n",
      "        {199.0} <music21.note.Note D>\n",
      "        {200.0} <music21.note.Note E>\n",
      "        {204.0} <music21.note.Rest rest>\n",
      "    {0.0} <music21.stream.Voice 0x1114e2278>\n",
      "        {0.0} <music21.note.Rest rest>\n",
      "        {14.0} <music21.chord.Chord F#4 D5>\n",
      "        {14.0} <music21.note.Rest rest>\n",
      "        {16.0} <music21.chord.Chord B4 D5>\n",
      "        {20.0} <music21.note.Note F#>\n",
      "        {21.0} <music21.note.Note E>\n",
      "        {82.0} <music21.note.Note C#>\n",
      "        {98.0} <music21.note.Note D>\n",
      "        {100.0} <music21.note.Note E>\n",
      "        {102.0} <music21.note.Note D>\n",
      "        {104.0} <music21.note.Note G>\n",
      "        {106.0} <music21.note.Note A>\n",
      "        {134.0} <music21.note.Note B->\n",
      "        {140.0} <music21.chord.Chord F#4 F#4>\n",
      "        {142.0} <music21.chord.Chord F#4 B4>\n",
      "        {144.0} <music21.note.Note F>\n",
      "        {146.0} <music21.note.Note G#>\n",
      "        {147.0} <music21.note.Note C#>\n",
      "        {152.0} <music21.note.Note C#>\n",
      "        {153.0} <music21.note.Note B>\n",
      "        {168.0} <music21.note.Note E>\n",
      "        {174.0} <music21.note.Note B>\n",
      "        {174.5} <music21.note.Note C#>\n",
      "        {175.0} <music21.note.Note D>\n",
      "        {177.0} <music21.note.Note C#>\n",
      "        {182.0} <music21.note.Note A>\n",
      "        {184.0} <music21.note.Note A>\n",
      "        {202.0} <music21.note.Note A>\n",
      "        {203.0} <music21.note.Note G>\n",
      "        {204.0} <music21.note.Rest rest>\n",
      "    {0.0} <music21.stream.Voice 0x1114f56a0>\n",
      "        {98.0} <music21.note.Note A>\n",
      "        {144.0} <music21.note.Note B>\n"
     ]
    }
   ],
   "source": [
    "song.show('text')\n"
   ]
  },
  {
   "cell_type": "code",
   "execution_count": 16,
   "metadata": {
    "collapsed": false
   },
   "outputs": [],
   "source": [
    "for x in song.notes: #.notesAndrests\n",
    "    x"
   ]
  },
  {
   "cell_type": "code",
   "execution_count": 17,
   "metadata": {
    "collapsed": false
   },
   "outputs": [
    {
     "data": {
      "text/plain": [
       "<music21.stream.Voice 0x1114f56a0>"
      ]
     },
     "execution_count": 17,
     "metadata": {},
     "output_type": "execute_result"
    }
   ],
   "source": [
    "song.voices\n",
    "song.parts[0].sorted.voices[3]#elements#.show('text')"
   ]
  },
  {
   "cell_type": "code",
   "execution_count": 18,
   "metadata": {
    "collapsed": false
   },
   "outputs": [
    {
     "data": {
      "text/plain": [
       "208.0"
      ]
     },
     "execution_count": 18,
     "metadata": {},
     "output_type": "execute_result"
    }
   ],
   "source": [
    "song.analyze('ambitus')\n",
    "song.flat.notes[0].pitches\n",
    "song.flat.notes[1].pitches\n",
    "song.flat.notes[9].__dict__\n",
    "song.flat.notes[14]\n",
    "# get_part_1(song).notes.show('text')\n",
    "get_part_1(song).duration.quarterLength"
   ]
  },
  {
   "cell_type": "code",
   "execution_count": 51,
   "metadata": {
    "collapsed": false
   },
   "outputs": [],
   "source": [
    "# Here's some actual useful code:\n",
    "\n",
    "# A0 is 21 and C8 is 108\n",
    "HOLD_NOTE = 20\n",
    "SILENCE = 19\n",
    "\n",
    "# Gets one of the voices in the song\n",
    "# - allows us to extract the 'melody' and 'harmony'\n",
    "def get_part_1(song):\n",
    "    return song.parts[0].sorted.voices[0]\n",
    "def get_part_2(song):\n",
    "    return song.parts[0].sorted.voices[1]\n",
    "\n",
    "# Converts note or chord to a midi pitch (int)\n",
    "def pitch(note):\n",
    "    try:\n",
    "        #... Should probably change this part\n",
    "        return note.pitches[0].midi # If it's a chord, get top note\n",
    "    except AttributeError:\n",
    "        return note.pitch.midi # if it's not a chord\n",
    "\n",
    "\n",
    "# music21.Stream -> [int...]\n",
    "def get_pitch_array(song):\n",
    "    # Divisions are in quarter notes... we may want to change this\n",
    "    array = []\n",
    "    current_note = 0\n",
    "    for time in range(0, int(song.duration.quarterLength)):\n",
    "        # Figure out current note\n",
    "        note = song.sorted.notes[current_note]\n",
    "        if note.offset + note.duration.quarterLength <= time:\n",
    "            current_note += 1\n",
    "            try:\n",
    "                note = song.sorted.notes[current_note+1]\n",
    "            except IndexError: # last note is longer than a quarter note\n",
    "                current_note += -1\n",
    "\n",
    "        # Add current note to the array\n",
    "        if note.offset > time:\n",
    "            array.append(SILENCE)\n",
    "        elif note.offset > time-1: # Note started in the last quarter note\n",
    "            array.append(pitch(note))\n",
    "        else:\n",
    "            array.append(HOLD_NOTE)\n",
    "    return array\n",
    "\n",
    "# Converts pitch number to a tuple with \"one hot encoding\"\n",
    "LOWEST_PITCH=SILENCE\n",
    "HIGHEST_PITCH=108 # C8\n",
    "def pitch_to_tuple_vector(pitch):\n",
    "    list = [0] * (HIGHEST_PITCH-LOWEST_PITCH)\n",
    "    list[pitch-LOWEST_PITCH] = 1\n",
    "    return tuple(list)\n",
    "\n",
    "def tuple_vector_to_pitch(tuple):\n",
    "    index = max(enumerate(tuple), key=lambda x: x[1])[0]\n",
    "    return LOWEST_PITCH + index\n",
    "\n",
    "def pitch_array_to_stream(pitch_array):\n",
    "    stream = music21.stream.Stream()\n",
    "    for pitch in pitch_array:\n",
    "        if pitch == HOLD_NOTE:\n",
    "            stream[-1].quarterLength += 1\n",
    "        elif pitch != SILENCE:\n",
    "            stream.append(music21.note.Note(pitch))\n",
    "    return stream"
   ]
  },
  {
   "cell_type": "code",
   "execution_count": 52,
   "metadata": {
    "collapsed": false
   },
   "outputs": [
    {
     "data": {
      "text/html": [
       "\n",
       "                <div id='midiPlayerDiv39835'></div>\n",
       "                <link rel=\"stylesheet\" href=\"http://artusi.xyz/music21j/css/m21.css\" \n",
       "                    type=\"text/css\" />\n",
       "                <script>\n",
       "                require.config({\n",
       "                    paths: {'music21': 'http://artusi.xyz/music21j/src/music21'} \n",
       "                }); \n",
       "                require(['music21'], function() { \n",
       "                               mp = new music21.miditools.MidiPlayer();\n",
       "                               mp.addPlayer('#midiPlayerDiv39835'); \n",
       "                               mp.base64Load('data:audio/midi;base64,TVRoZAAAAAYAAQABBABNVHJrAAAAGAD/AwAA4ABAiACQMlqE8ACAMgCIAP8vAA=='); \n",
       "                        });\n",
       "                </script>"
      ],
      "text/plain": [
       "<IPython.core.display.HTML object>"
      ]
     },
     "metadata": {},
     "output_type": "display_data"
    },
    {
     "data": {
      "text/html": [
       "\n",
       "                <div id='midiPlayerDiv40004'></div>\n",
       "                <link rel=\"stylesheet\" href=\"http://artusi.xyz/music21j/css/m21.css\" \n",
       "                    type=\"text/css\" />\n",
       "                <script>\n",
       "                require.config({\n",
       "                    paths: {'music21': 'http://artusi.xyz/music21j/src/music21'} \n",
       "                }); \n",
       "                require(['music21'], function() { \n",
       "                               mp = new music21.miditools.MidiPlayer();\n",
       "                               mp.addPlayer('#midiPlayerDiv40004'); \n",
       "                               mp.base64Load('data:audio/midi;base64,TVRoZAAAAAYAAQABBABNVHJrAAAA5gD/AwAA4ABAiACQPlqYAIA+AACQOVqIAIA5AACQO1qYAIA7AACQSVqgAIBJAACQR1qYAIBHAACQR1qQAIBHAACQRVqQAIBFAACQO1qgAIA7AACQO1qYAIA7AACQO1qgAIA7AACQQlqIAIBCAACQO1qIAIA7AACQN1qIAIA3AACQO1qIAIA7AACQN1qIAIA3AACQPlqIAIA+AACQQFqgAIBAAACQQFqYAIBAAACQO1rAAIA7AACQPVqQAIA9AACQPlqYAIA+AACQNlqIAIA2AACQOVqIAIA5AACQMlrwAIAyAIgA/y8A'); \n",
       "                        });\n",
       "                </script>"
      ],
      "text/plain": [
       "<IPython.core.display.HTML object>"
      ]
     },
     "metadata": {},
     "output_type": "display_data"
    }
   ],
   "source": [
    "# Here's how we get our training data:\n",
    "melody_vectors = list(map(pitch_to_tuple_vector, get_pitch_array(get_part_1(song))))\n",
    "harmony_vectors= list(map(pitch_to_tuple_vector, get_pitch_array(get_part_2(song))))\n",
    "\n",
    "# Converting back:\n",
    "harmony_pitch_array = list(map(tuple_vector_to_pitch, melody_vectors))\n",
    "pitch_array_to_stream(harmony_pitch_array).show('midi')\n",
    "\n",
    "# There's a problem somewhere in here... if I run:\n",
    "pitch_array_to_stream(get_pitch_array(get_part_2(song))).show('midi')\n",
    "# I get a different result than in the Converting back section\n"
   ]
  },
  {
   "cell_type": "code",
   "execution_count": null,
   "metadata": {
    "collapsed": false
   },
   "outputs": [],
   "source": []
  },
  {
   "cell_type": "code",
   "execution_count": null,
   "metadata": {
    "collapsed": false
   },
   "outputs": [],
   "source": []
  },
  {
   "cell_type": "code",
   "execution_count": null,
   "metadata": {
    "collapsed": true
   },
   "outputs": [],
   "source": []
  }
 ],
 "metadata": {
  "anaconda-cloud": {},
  "kernelspec": {
   "display_name": "Python [Root]",
   "language": "python",
   "name": "Python [Root]"
  },
  "language_info": {
   "codemirror_mode": {
    "name": "ipython",
    "version": 3
   },
   "file_extension": ".py",
   "mimetype": "text/x-python",
   "name": "python",
   "nbconvert_exporter": "python",
   "pygments_lexer": "ipython3",
   "version": "3.5.2"
  }
 },
 "nbformat": 4,
 "nbformat_minor": 0
}
