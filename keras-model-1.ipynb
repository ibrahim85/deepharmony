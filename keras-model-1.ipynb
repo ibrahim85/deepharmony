{
 "cells": [
  {
   "cell_type": "markdown",
   "metadata": {},
   "source": [
    "# Initial Keras model\n",
    "\n",
    "Simple keras model to make sure that I know how everything can fit together.\n",
    "\n",
    "I threw together the `separateVoices` code and the preprocessing code (changed to match `separateVoices` naming convention) and ran it through a keras model... not any keras model we care about though."
   ]
  },
  {
   "cell_type": "markdown",
   "metadata": {},
   "source": [
    "\n",
    "## Simple Keras model \n",
    "A naively stupid deep learning model to predict the next note.\n",
    "\n",
    "Most of the keras code comes straight off of the \"Getting Started\" guide on keras.io."
   ]
  },
  {
   "cell_type": "code",
   "execution_count": null,
   "metadata": {
    "collapsed": true
   },
   "outputs": [],
   "source": [
    "%matplotlib inline\n",
    "import matplotlib.pyplot as plt\n",
    "import numpy as np\n",
    "np.random.seed(123)\n",
    "\n",
    "from keras.models import Sequential\n",
    "from keras.layers import Dense, Activation, LSTM\n",
    "from keras.layers.recurrent import LSTM, GRU\n",
    "from keras.layers.embeddings import Embedding\n",
    "from keras.preprocessing.sequence import pad_sequences\n",
    "\n",
    "from preprocess import *\n",
    "from util import *"
   ]
  },
  {
   "cell_type": "code",
   "execution_count": 4,
   "metadata": {
    "collapsed": false
   },
   "outputs": [
    {
     "name": "stdout",
     "output_type": "stream",
     "text": [
      "Epoch 1/10\n",
      "207/207 [==============================] - 0s - loss: 4.4420 - acc: 0.0242         \n",
      "Epoch 2/10\n",
      "207/207 [==============================] - 0s - loss: 4.4116 - acc: 0.1353     \n",
      "Epoch 3/10\n",
      "207/207 [==============================] - 0s - loss: 4.3821 - acc: 0.2126     \n",
      "Epoch 4/10\n",
      "207/207 [==============================] - 0s - loss: 4.3527 - acc: 0.4541     \n",
      "Epoch 5/10\n",
      "207/207 [==============================] - 0s - loss: 4.3236 - acc: 0.4928     \n",
      "Epoch 6/10\n",
      "207/207 [==============================] - 0s - loss: 4.2934 - acc: 0.4928     \n",
      "Epoch 7/10\n",
      "207/207 [==============================] - 0s - loss: 4.2644 - acc: 0.4928     \n",
      "Epoch 8/10\n",
      "207/207 [==============================] - 0s - loss: 4.2340 - acc: 0.4928     \n",
      "Epoch 9/10\n",
      "207/207 [==============================] - 0s - loss: 4.2031 - acc: 0.4928     \n",
      "Epoch 10/10\n",
      "207/207 [==============================] - 0s - loss: 4.1729 - acc: 0.4928     \n"
     ]
    },
    {
     "data": {
      "text/plain": [
       "<keras.callbacks.History at 0x7ff1e4f54a90>"
      ]
     },
     "execution_count": 4,
     "metadata": {},
     "output_type": "execute_result"
    }
   ],
   "source": [
    "song = m21.converter.parse('data/bach-chorales/bach-1.mid')\n",
    "preprocessed = preprocess(song)\n",
    "\n",
    "PITCH_LEN = len(pitchToTuple(SILENCE))\n",
    "\n",
    "model = Sequential()\n",
    "model.add(Dense(output_dim=PITCH_LEN, input_dim=PITCH_LEN))\n",
    "model.add(Activation('relu'))\n",
    "model.add(Dense(output_dim=PITCH_LEN))\n",
    "model.add(Activation('softmax'))\n",
    "model.compile(loss='categorical_crossentropy', optimizer='sgd', metrics=['accuracy'])\n",
    "\n",
    "# Train to match the next note\n",
    "data = np.array(preprocessed[0][:-1])\n",
    "labels = np.array(preprocessed[0][1:])\n",
    "model.fit(data, labels, nb_epoch=10, batch_size=32)\n",
    "\n"
   ]
  },
  {
   "cell_type": "code",
   "execution_count": 5,
   "metadata": {
    "collapsed": false
   },
   "outputs": [
    {
     "data": {
      "text/plain": [
       "20"
      ]
     },
     "execution_count": 5,
     "metadata": {},
     "output_type": "execute_result"
    }
   ],
   "source": [
    "# Using the stupid keras model to predict  the next pitch given G2#\n",
    "# It should predict SILENCE\n",
    "tupleToPitch(model.predict(np.array([pitchToTuple(31)]))[0])"
   ]
  },
  {
   "cell_type": "code",
   "execution_count": 6,
   "metadata": {
    "collapsed": false
   },
   "outputs": [
    {
     "data": {
      "text/plain": [
       "20"
      ]
     },
     "execution_count": 6,
     "metadata": {},
     "output_type": "execute_result"
    }
   ],
   "source": [
    "tupleToPitch(model.predict(np.array([pitchToTuple(20)]))[0])"
   ]
  }
 ],
 "metadata": {
  "anaconda-cloud": {},
  "kernelspec": {
   "display_name": "Python 3",
   "language": "python",
   "name": "python3"
  },
  "language_info": {
   "codemirror_mode": {
    "name": "ipython",
    "version": 3
   },
   "file_extension": ".py",
   "mimetype": "text/x-python",
   "name": "python",
   "nbconvert_exporter": "python",
   "pygments_lexer": "ipython3",
   "version": "3.5.2"
  }
 },
 "nbformat": 4,
 "nbformat_minor": 0
}
