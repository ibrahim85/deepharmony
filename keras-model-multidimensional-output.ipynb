{
 "cells": [
  {
   "cell_type": "markdown",
   "metadata": {},
   "source": [
    "# A keras model"
   ]
  },
  {
   "cell_type": "code",
   "execution_count": 1,
   "metadata": {
    "collapsed": false
   },
   "outputs": [
    {
     "name": "stderr",
     "output_type": "stream",
     "text": [
      "Using Theano backend.\n",
      "ERROR (theano.sandbox.cuda): nvcc compiler not found on $PATH. Check your nvcc installation and try again.\n"
     ]
    }
   ],
   "source": [
    "%matplotlib inline\n",
    "import matplotlib.pyplot as plt\n",
    "import numpy as np\n",
    "np.random.seed(123)\n",
    "\n",
    "from keras.models import Sequential\n",
    "from keras.layers import Dense, Activation, LSTM, Reshape\n",
    "from keras.layers.recurrent import LSTM, GRU\n",
    "from keras.layers.embeddings import Embedding\n",
    "from keras.layers.wrappers import TimeDistributed\n",
    "from keras.preprocessing.sequence import pad_sequences\n",
    "from keras.utils.np_utils import to_categorical\n",
    "from keras.models import model_from_yaml\n",
    "from tqdm import tqdm\n",
    "\n",
    "from preprocess import *\n",
    "from util import *"
   ]
  },
  {
   "cell_type": "code",
   "execution_count": 18,
   "metadata": {
    "collapsed": false
   },
   "outputs": [],
   "source": [
    "#TODO: shift data down to 0-89 instead of 19-...\n",
    "NUM_POSSIBLE_ACTIONS = len(pitchToTuple(SILENCE, ambitus=(HIGHEST_PITCH-LOWEST_PITCH)*2))\n",
    "EMBEDDING_DIMENSIONS=100\n",
    "#MIN_SONG_LENGTH=200 #TODO figure out/look up"
   ]
  },
  {
   "cell_type": "code",
   "execution_count": 19,
   "metadata": {
    "collapsed": false
   },
   "outputs": [],
   "source": [
    "NUM_SONGS = 900\n",
    "\n",
    "sop = useNumberHolds(loadData('Soprano')[:NUM_SONGS])\n",
    "min_song_length = min(len(song) for song in sop) // 4 * 4 #trim to last measure\n",
    "data = np.array([song[:min_song_length] for song in sop])\n",
    "\n",
    "\n",
    "\n",
    "def categorical(string):\n",
    "    bass = useNumberHolds(loadData(string)[:NUM_SONGS])\n",
    "    trimmed_categorical_bass = [to_categorical(np.array(song[:min_song_length])-LOWEST_PITCH, nb_classes=NUM_POSSIBLE_ACTIONS) for song in bass]\n",
    "    labels = np.array(trimmed_categorical_bass)\n",
    "    return labels\n",
    "\n",
    "labels_bass = categorical('Bass')\n",
    "labels_tenor = categorical('Tenor')\n",
    "labels_alto = categorical('Alto')"
   ]
  },
  {
   "cell_type": "code",
   "execution_count": 20,
   "metadata": {
    "collapsed": false
   },
   "outputs": [
    {
     "data": {
      "text/plain": [
       "(900, 80)"
      ]
     },
     "execution_count": 20,
     "metadata": {},
     "output_type": "execute_result"
    }
   ],
   "source": [
    "data.shape"
   ]
  },
  {
   "cell_type": "code",
   "execution_count": null,
   "metadata": {
    "collapsed": false
   },
   "outputs": [],
   "source": []
  },
  {
   "cell_type": "code",
   "execution_count": 21,
   "metadata": {
    "collapsed": false
   },
   "outputs": [
    {
     "name": "stdout",
     "output_type": "stream",
     "text": [
      "(None, 80, 100)\n",
      "(None, 80, 534)\n",
      "(None, 80, 534)\n"
     ]
    }
   ],
   "source": [
    "model = Sequential()\n",
    "\n",
    "model.add(Embedding(NUM_POSSIBLE_ACTIONS, EMBEDDING_DIMENSIONS, input_length=min_song_length))\n",
    "\n",
    "model.add(LSTM(EMBEDDING_DIMENSIONS, return_sequences=True))\n",
    "model.add(LSTM(EMBEDDING_DIMENSIONS, return_sequences=True))\n",
    "model.add(LSTM(EMBEDDING_DIMENSIONS, return_sequences=True))\n",
    "model.add(LSTM(EMBEDDING_DIMENSIONS, return_sequences=True))\n",
    "print(model.output_shape)\n",
    "\n",
    "#model.add(Dropout(0.5))\n",
    "model.add(TimeDistributed(Dense(NUM_POSSIBLE_ACTIONS*3)))\n",
    "print(model.output_shape)\n",
    "model.add(Reshape((min_song_length*3, NUM_POSSIBLE_ACTIONS)))\n",
    "print(model.output_shape)\n",
    "#model.add(TimeDistributed(Reshape((NUM_POSSIBLE_ACTIONS,3))))\n",
    "model.add(Activation('softmax'))\n",
    "model.add(Reshape((min_song_length, NUM_POSSIBLE_ACTIONS*3)))\n",
    "print(model.output_shape)\n",
    "\n",
    "\n",
    "model.compile(loss='binary_crossentropy', optimizer='RMSprop', metrics=['accuracy'])\n",
    "\n",
    "\n",
    "\n",
    "\n",
    "#Now: 80x100 -> 80x178\n",
    "#Want: 3x80x100 -> 3x80x178\n",
    "#Approach: 80x300 -> reshape 240x100 -> 240x178 -> 3x80x178"
   ]
  },
  {
   "cell_type": "code",
   "execution_count": 22,
   "metadata": {
    "collapsed": false
   },
   "outputs": [
    {
     "name": "stdout",
     "output_type": "stream",
     "text": [
      "Epoch 1/10\n",
      "900/900 [==============================] - 16s - loss: 0.0287 - acc: 0.9944    \n",
      "Epoch 2/10\n",
      "900/900 [==============================] - 18s - loss: 0.0260 - acc: 0.9944    \n",
      "Epoch 3/10\n",
      "900/900 [==============================] - 17s - loss: 0.0255 - acc: 0.9944    \n",
      "Epoch 4/10\n",
      "900/900 [==============================] - 19s - loss: 0.0251 - acc: 0.9945    \n",
      "Epoch 5/10\n",
      "900/900 [==============================] - 16s - loss: 0.0249 - acc: 0.9946    \n",
      "Epoch 6/10\n",
      "900/900 [==============================] - 13s - loss: 0.0247 - acc: 0.9946    \n",
      "Epoch 7/10\n",
      "900/900 [==============================] - 14s - loss: 0.0244 - acc: 0.9946    \n",
      "Epoch 8/10\n",
      "900/900 [==============================] - 13s - loss: 0.0241 - acc: 0.9946    \n",
      "Epoch 9/10\n",
      "900/900 [==============================] - 16s - loss: 0.0235 - acc: 0.9946    \n",
      "Epoch 10/10\n",
      "900/900 [==============================] - 20s - loss: 0.0226 - acc: 0.9946    \n"
     ]
    },
    {
     "data": {
      "text/plain": [
       "<keras.callbacks.History at 0x7f8539d62d68>"
      ]
     },
     "execution_count": 22,
     "metadata": {},
     "output_type": "execute_result"
    }
   ],
   "source": [
    "labels = np.concatenate((labels_bass, labels_alto, labels_tenor), axis=2)\n",
    "model.fit(data, labels, nb_epoch=10, batch_size=32)"
   ]
  },
  {
   "cell_type": "code",
   "execution_count": 23,
   "metadata": {
    "collapsed": false
   },
   "outputs": [
    {
     "name": "stdout",
     "output_type": "stream",
     "text": [
      "(80, 178)\n"
     ]
    }
   ],
   "source": [
    "import util\n",
    "import imp; imp.reload(util)\n",
    "\n",
    "melody_num = 0\n",
    "\n",
    "output = model.predict(data[melody_num, np.newaxis])\n",
    "bass_output = output [0,:,:NUM_POSSIBLE_ACTIONS]\n",
    "print (bass_output.shape)\n",
    "alto_output = output [0,:,NUM_POSSIBLE_ACTIONS:NUM_POSSIBLE_ACTIONS*2]\n",
    "tenor_output = output [0,:,NUM_POSSIBLE_ACTIONS*2:]\n",
    "\n",
    "bass_pitches = np.array([np.argmax(bass_output[time, :]) for time in range(bass_output.shape[0])])+LOWEST_PITCH\n",
    "alto_pitches = np.array([np.argmax(alto_output[time, :]) for time in range(alto_output.shape[0])])+LOWEST_PITCH\n",
    "tenor_pitches = np.array([np.argmax(tenor_output[time, :]) for time in range(tenor_output.shape[0])])+LOWEST_PITCH\n",
    "\n",
    "bass_stream = util.pitchToStream(bass_pitches)\n",
    "alto_stream = util.pitchToStream(alto_pitches)\n",
    "tenor_stream = util.pitchToStream(tenor_pitches)\n",
    "\n",
    "def get_stream(model):\n",
    "    print (model)\n",
    "    output=model.predict(data[melody_num, np.newaxis])\n",
    "    print(output.shape)\n",
    "    song_pitches = np.array([np.argmax(output[0, time, :]) for time in range(output.shape[1])])+LOWEST_PITCH\n",
    "    print(song_pitches)\n",
    "    return util.pitchToStream(song_pitches)\n",
    "\n",
    "combined = m21.stream.Stream([alto_stream, tenor_stream, bass_stream])"
   ]
  },
  {
   "cell_type": "code",
   "execution_count": 24,
   "metadata": {
    "collapsed": false
   },
   "outputs": [
    {
     "data": {
      "image/png": "[encoded data removed]",
      "text/plain": [
       "<music21.ipython21.objects.IPythonPNGObject at 0x7f853a0a80b8>"
      ]
     },
     "execution_count": 24,
     "metadata": {},
     "output_type": "execute_result"
    }
   ],
   "source": [
    "import util\n",
    "import imp; imp.reload(util)\n",
    "combined.show()"
   ]
  },
  {
   "cell_type": "code",
   "execution_count": 25,
   "metadata": {
    "collapsed": false
   },
   "outputs": [
    {
     "data": {
      "text/html": [
       "\n",
       "                <div id='midiPlayerDiv32427'></div>\n",
       "                <link rel=\"stylesheet\" href=\"http://artusi.xyz/music21j/css/m21.css\" \n",
       "                    type=\"text/css\" />\n",
       "                <script>\n",
       "                require.config({\n",
       "                    paths: {'music21': 'http://artusi.xyz/music21j/src/music21'} \n",
       "                }); \n",
       "                require(['music21'], function() { \n",
       "                               mp = new music21.miditools.MidiPlayer();\n",
       "                               mp.addPlayer('#midiPlayerDiv32427'); \n",
       "                               mp.base64Load('data:audio/midi;base64,TVRoZAAAAAYAAQADBABNVHJrAAABUgD/AwAA4ABAmACQQ1qQAIBDAACQQ1qQAIBDAACQQ1qQAIBDAACQQ1qQAIBDAACQQ1qQAIBDAACQQ1qQAIBDAACQQ1qQAIBDAACQQ1qQAIBDAACQQ1qQAIBDAACQRVqQAIBFAACQQ1qQAIBDAACQQ1qQAIBDAACQQ1qQAIBDAACQRlqQAIBGAACQRlqQAIBGAACQRlqQAIBGAACQRlqQAIBGAACQRlrAAIBGAACQR1qQAIBHAACQR1qQAIBHAACQR1qQAIBHAACQR1qQAIBHAACQR1qQAIBHAACQR1qQAIBHAACQR1qQAIBHAACQRVqQAIBFAACQQ1qQAIBDAACQQ1qQAIBDAACQQ1qQAIBDAACQQ1qQAIBDAACQQ1qQAIBDAACQQ1qQAIBDAACQQ1qQAIBDAACQQ1qQAIBDAACQQ1qQAIBDAACQQ1qQAIBDAIgA/y8ATVRyawAAAW0A/wMAAOAAQJgAkDxakACAPAAAkDxakACAPAAAkD5akACAPgAAkDxakACAPAAAkD5akACAPgAAkD5akACAPgAAkD5akACAPgAAkD5akACAPgAAkD5akACAPgAAkD5akACAPgAAkDxakACAPAAAkDxakACAPAAAkD5akACAPgAAkD9akACAPwAAkD9akACAPwAAkEFakACAQQAAkEFakACAQQAAkENakACAQwAAkENakACAQwAAkENakACAQwAAkENakACAQwAAkENakACAQwAAkENakACAQwAAkENakACAQwAAkENakACAQwAAkENakACAQwAAkENakACAQwAAkENakACAQwAAkD5akACAPgAAkD5akACAPgAAkD5akACAPgAAkD5akACAPgAAkD5akACAPgAAkD5akACAPgAAkD5akACAPgAAkD5akACAPgAAkD5akACAPgAAkD5akACAPgAAkD5akACAPgCIAP8vAE1UcmsAAAF2AP8DAADgAECQAJAyWogAgDIAAJA0WpAAgDQAAJA0WpAAgDQAAJA0WpAAgDQAAJAyWpAAgDIAAJA0WpAAgDQAAJA0WpAAgDQAAJA3WpAAgDcAAJA3WpAAgDcAAJA3WpAAgDcAAJA3WpAAgDcAAJA3WpAAgDcAAJAyWpAAgDIAAJA3WpAAgDcAAJA3WpAAgDcAAJA3WpAAgDcAAJA3WpAAgDcAAJA7WpAAgDsAAJA7WpAAgDsAAJA7WpAAgDsAAJA7WpAAgDsAAJA7WpAAgDsAAJA7WpAAgDsAAJA7WpAAgDsAAJA3WpAAgDcAAJA3WpAAgDcAAJA3WpAAgDcAAJA7WpAAgDsAAJA5WpAAgDkAAJA0WpAAgDQAAJA0WpAAgDQAAJA0WpAAgDQAAJA0WpAAgDQAAJA0WpAAgDQAAJA0WpAAgDQAAJA0WpAAgDQAAJA0WpAAgDQAAJA0WpAAgDQAAJA0WpAAgDQAAJA0WpAAgDQAiAD/LwA='); \n",
       "                        });\n",
       "                </script>"
      ],
      "text/plain": [
       "<IPython.core.display.HTML object>"
      ]
     },
     "metadata": {},
     "output_type": "display_data"
    }
   ],
   "source": [
    "combined.show('midi')"
   ]
  },
  {
   "cell_type": "code",
   "execution_count": null,
   "metadata": {
    "collapsed": false
   },
   "outputs": [],
   "source": [
    "bass_out = util.pitchToStream(song_pitches)\n",
    "melody_out = util.pitchToStream(data[melody_num])"
   ]
  },
  {
   "cell_type": "code",
   "execution_count": null,
   "metadata": {
    "collapsed": false
   },
   "outputs": [],
   "source": [
    "combined = m21.stream.Stream([m21.stream.Voice(bass_out), m21.stream.Voice(melody_out)])\n",
    "combined.show()"
   ]
  },
  {
   "cell_type": "code",
   "execution_count": null,
   "metadata": {
    "collapsed": false
   },
   "outputs": [],
   "source": [
    "combined.show('midi')"
   ]
  },
  {
   "cell_type": "code",
   "execution_count": null,
   "metadata": {
    "collapsed": false
   },
   "outputs": [],
   "source": [
    "m21.converter.parse('data/bach-chorales/bach-1.mid').show()"
   ]
  },
  {
   "cell_type": "code",
   "execution_count": null,
   "metadata": {
    "collapsed": true
   },
   "outputs": [],
   "source": []
  }
 ],
 "metadata": {
  "anaconda-cloud": {},
  "kernelspec": {
   "display_name": "Python 3",
   "language": "python",
   "name": "python3"
  },
  "language_info": {
   "codemirror_mode": {
    "name": "ipython",
    "version": 3
   },
   "file_extension": ".py",
   "mimetype": "text/x-python",
   "name": "python",
   "nbconvert_exporter": "python",
   "pygments_lexer": "ipython3",
   "version": "3.5.2"
  }
 },
 "nbformat": 4,
 "nbformat_minor": 0
}
